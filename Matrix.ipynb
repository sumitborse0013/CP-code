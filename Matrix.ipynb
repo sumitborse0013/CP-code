{
 "cells": [
  {
   "cell_type": "code",
   "execution_count": 1,
   "id": "84313b6a-1587-473a-b43d-a08670ed234f",
   "metadata": {},
   "outputs": [
    {
     "name": "stdout",
     "output_type": "stream",
     "text": [
      "[19, 22]\n",
      "[43, 50]\n"
     ]
    }
   ],
   "source": [
    "#multiplication of matrix\n",
    "\n",
    "matrix_a = [[1, 2], [3, 4]]\n",
    "matrix_b = [[5, 6], [7, 8]]\n",
    "\n",
    "result = [[0, 0], [0, 0]]\n",
    "\n",
    "for i in range(2):\n",
    "    for j in range(2):\n",
    "        result[i][j] = (matrix_a[i][0] * matrix_b[0][j] +\n",
    "                        matrix_a[i][1] * matrix_b[1][j])\n",
    "\n",
    "for row in result:\n",
    "    print(row)"
   ]
  },
  {
   "cell_type": "code",
   "execution_count": 3,
   "id": "a7a85e18-d54a-4622-a23a-feaf33b67441",
   "metadata": {},
   "outputs": [],
   "source": [
    "#Matrix Multiplication: For two matrices to be multiplied, the number of columns in the first matrix must be equal to the number of rows in the second matrix.\n",
    "#Resulting Matrix: The resulting matrix will have the same number of rows as the first matrix and the same number of columns as the second matrix.\n",
    "\n",
    "\n",
    "#Steps:\n",
    "#Take two matrices as input.\n",
    "#Loop through each row of the first matrix and each column of the second matrix.\n",
    "#Multiply corresponding elements and add them to get the result.\n",
    "#Print the resulting matrix.\n"
   ]
  },
  {
   "cell_type": "code",
   "execution_count": null,
   "id": "4ef992e9-51d2-493a-90ee-0052d5576fe8",
   "metadata": {},
   "outputs": [],
   "source": []
  },
  {
   "cell_type": "code",
   "execution_count": 4,
   "id": "0fafa33f-7604-4fdd-b203-55b3efed6119",
   "metadata": {},
   "outputs": [
    {
     "name": "stdout",
     "output_type": "stream",
     "text": [
      "[12, 4, 3]\n",
      "[7, 5, 8]\n"
     ]
    }
   ],
   "source": [
    "# transpose of a matrix\n",
    "\n",
    "# Program to transpose a matrix using a nested loop\n",
    "\n",
    "X = [[12,7],\n",
    "    [4 ,5],\n",
    "    [3 ,8]]\n",
    "\n",
    "result = [[0,0,0],\n",
    "         [0,0,0]]\n",
    "\n",
    "# iterate through rows\n",
    "for i in range(len(X)):\n",
    "   # iterate through columns\n",
    "   for j in range(len(X[0])):\n",
    "       result[j][i] = X[i][j]\n",
    "\n",
    "for r in result:\n",
    "   print(r)\n"
   ]
  },
  {
   "cell_type": "code",
   "execution_count": null,
   "id": "0f19f2b8-4db8-4bfa-8227-77e91d43bea0",
   "metadata": {},
   "outputs": [],
   "source": [
    "#Steps:\n",
    "#Input the Matrix: You need a matrix (2D list).\n",
    "#Transpose the Matrix: Swap rows with columns.\n",
    "#Output the Transposed Matrix: Print the resulting matrix.\n",
    "\n",
    "\n",
    "\n"
   ]
  }
 ],
 "metadata": {
  "kernelspec": {
   "display_name": "Python 3 (ipykernel)",
   "language": "python",
   "name": "python3"
  },
  "language_info": {
   "codemirror_mode": {
    "name": "ipython",
    "version": 3
   },
   "file_extension": ".py",
   "mimetype": "text/x-python",
   "name": "python",
   "nbconvert_exporter": "python",
   "pygments_lexer": "ipython3",
   "version": "3.11.7"
  }
 },
 "nbformat": 4,
 "nbformat_minor": 5
}
