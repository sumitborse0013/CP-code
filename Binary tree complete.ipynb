{
 "cells": [
  {
   "cell_type": "code",
   "execution_count": 1,
   "id": "7662c3f1-fc5e-4168-8f7f-742e0d273698",
   "metadata": {},
   "outputs": [
    {
     "name": "stdout",
     "output_type": "stream",
     "text": [
      "The Binary Tree is complete\n"
     ]
    }
   ],
   "source": [
    "# Python program to check if a binary tree is complete or not\n",
    "\n",
    "# Tree node structure\n",
    "class Node:\n",
    "\n",
    "    # Constructor to create a new node\n",
    "    def __init__(self, key):\n",
    "        self.key = key\n",
    "        self.left = None\n",
    "        self.right = None\n",
    "\n",
    "# This function counts the number of nodes in a binary tree\n",
    "def countNodes(root):\n",
    "    if root is None:\n",
    "        return 0\n",
    "    return (1 + countNodes(root.left) + countNodes(root.right))\n",
    "\n",
    "# This function checks if binary tree is complete or not\n",
    "def isComplete(root, index, number_nodes):\n",
    "\n",
    "    # An empty tree is complete\n",
    "    if root is None:\n",
    "        return True\n",
    "\n",
    "    # If index assigned to current node is more than\n",
    "    # the number of nodes in the tree, then it's not complete\n",
    "    if index >= number_nodes:\n",
    "        return False\n",
    "\n",
    "    # Recur for left and right subtrees\n",
    "    return (isComplete(root.left, 2*index + 1, number_nodes) and\n",
    "            isComplete(root.right, 2*index + 2, number_nodes))\n",
    "\n",
    "# Driver Program to create a complete binary tree\n",
    "# Create the tree nodes\n",
    "root = Node(1)\n",
    "root.left = Node(2)\n",
    "root.right = Node(3)\n",
    "root.left.left = Node(4)\n",
    "root.left.right = Node(5)\n",
    "root.right.left = Node(6)\n",
    "\n",
    "# Number of nodes in the tree\n",
    "node_count = countNodes(root)\n",
    "\n",
    "# Start checking if the tree is complete\n",
    "index = 0\n",
    "if isComplete(root, index, node_count):\n",
    "    print(\"The Binary Tree is complete\")\n",
    "else:\n",
    "    print(\"The Binary Tree is not complete\")\n"
   ]
  },
  {
   "cell_type": "code",
   "execution_count": null,
   "id": "588bcf21-3574-4af6-aad6-7c1cde730be2",
   "metadata": {},
   "outputs": [],
   "source": [
    "#A Complete Binary Tree is a binary tree in which all levels are completely filled, except possibly for the last level. In the last level, all nodes are as far left as possible.\n",
    "\n",
    "#Full Binary Tree: All nodes have either 0 or 2 children.\n",
    "#Perfect Binary Tree: All nodes are at maximum depth, and every leaf node is at the same level.\n",
    "#Complete Binary Tree: Every level is filled except the last, and nodes are filled from left to right on the last level.\n",
    "#The program checks if the tree is complete by:\n",
    "\n",
    "#Counting the total number of nodes.\n",
    "#Ensuring that for each node, its index is within the bounds, and recursively checking its left and right children."
   ]
  }
 ],
 "metadata": {
  "kernelspec": {
   "display_name": "Python 3 (ipykernel)",
   "language": "python",
   "name": "python3"
  },
  "language_info": {
   "codemirror_mode": {
    "name": "ipython",
    "version": 3
   },
   "file_extension": ".py",
   "mimetype": "text/x-python",
   "name": "python",
   "nbconvert_exporter": "python",
   "pygments_lexer": "ipython3",
   "version": "3.11.7"
  }
 },
 "nbformat": 4,
 "nbformat_minor": 5
}
