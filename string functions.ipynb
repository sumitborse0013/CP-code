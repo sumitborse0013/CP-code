{
 "cells": [
  {
   "cell_type": "code",
   "execution_count": 1,
   "id": "b314cf80-b9cb-4d70-9970-0c547b10bbb7",
   "metadata": {},
   "outputs": [
    {
     "name": "stdin",
     "output_type": "stream",
     "text": [
      "Enter string SuMiT BOrsE\n"
     ]
    },
    {
     "name": "stdout",
     "output_type": "stream",
     "text": [
      "Length of string:  11\n",
      "String in UPPERCASE:  SUMIT BORSE\n",
      "String in UPPERCASE:  sumit borse\n",
      "String in UPPERCASE:  Sumit borse\n",
      "String in UPPERCASE:  Sumit Borse\n"
     ]
    }
   ],
   "source": [
    "str=input(\"Enter string\")\n",
    "print(\"Length of string: \",len(str))\n",
    "print(\"String in UPPERCASE: \",str.upper())\n",
    "print(\"String in UPPERCASE: \",str.lower())\n",
    "print(\"String in UPPERCASE: \",str.capitalize())\n",
    "print(\"String in UPPERCASE: \",str.title())\n"
   ]
  },
  {
   "cell_type": "code",
   "execution_count": null,
   "id": "d81d32ad-bf02-4af4-b238-e98fc0c5bfb7",
   "metadata": {},
   "outputs": [],
   "source": []
  }
 ],
 "metadata": {
  "kernelspec": {
   "display_name": "Python 3 (ipykernel)",
   "language": "python",
   "name": "python3"
  },
  "language_info": {
   "codemirror_mode": {
    "name": "ipython",
    "version": 3
   },
   "file_extension": ".py",
   "mimetype": "text/x-python",
   "name": "python",
   "nbconvert_exporter": "python",
   "pygments_lexer": "ipython3",
   "version": "3.11.7"
  }
 },
 "nbformat": 4,
 "nbformat_minor": 5
}
