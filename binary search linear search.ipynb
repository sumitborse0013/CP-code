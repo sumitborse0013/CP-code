{
 "cells": [
  {
   "cell_type": "code",
   "execution_count": 1,
   "id": "9bc1e0d0-8e8a-4195-912f-1f3690972299",
   "metadata": {},
   "outputs": [],
   "source": [
    "#linear search"
   ]
  },
  {
   "cell_type": "code",
   "execution_count": 2,
   "id": "ecacb6de-57cd-4bbe-873d-a32cb874f91f",
   "metadata": {},
   "outputs": [
    {
     "name": "stdout",
     "output_type": "stream",
     "text": [
      "Element 30 found at index 2.\n"
     ]
    }
   ],
   "source": [
    "# Function to implement Linear Search\n",
    "def linear_search(arr, target):\n",
    "    # Loop through each element in the array\n",
    "    for i in range(len(arr)):\n",
    "        # If element is found, return the index\n",
    "        if arr[i] == target:\n",
    "            return i\n",
    "    # If element is not found, return -1\n",
    "    return -1\n",
    "\n",
    "# Example usage\n",
    "arr = [10, 20, 30, 40, 50]\n",
    "target = 30\n",
    "\n",
    "# Call the function and print the result\n",
    "result = linear_search(arr, target)\n",
    "\n",
    "# Output the result\n",
    "if result != -1:\n",
    "    print(f\"Element {target} found at index {result}.\")\n",
    "else:\n",
    "    print(f\"Element {target} not found in the array.\")\n"
   ]
  },
  {
   "cell_type": "code",
   "execution_count": 3,
   "id": "70f6e39a-fbdf-4941-a90b-ccf970a1e5e7",
   "metadata": {},
   "outputs": [],
   "source": [
    "#Steps:\n",
    "#Start from the first element in the array.\n",
    "#Compare each element with the target.\n",
    "#Return the index of the element if found.\n",
    "#If not found after checking all elements, return -1 (element not found).\n",
    "\n",
    "\n",
    "#Linear Search goes through each element in the list and checks if it matches the one you're looking for. If it does, it gives the index; if not, it tells you it's not there."
   ]
  },
  {
   "cell_type": "code",
   "execution_count": null,
   "id": "2445a076-1562-470c-813c-9b6a6d71a5a6",
   "metadata": {},
   "outputs": [],
   "source": []
  },
  {
   "cell_type": "code",
   "execution_count": null,
   "id": "aa90f433-16de-4d37-894a-f2f0a1709a0d",
   "metadata": {},
   "outputs": [],
   "source": [
    "#Binary search"
   ]
  },
  {
   "cell_type": "code",
   "execution_count": 4,
   "id": "076f2db6-c37e-4278-b812-2b2220133f1d",
   "metadata": {},
   "outputs": [
    {
     "name": "stdout",
     "output_type": "stream",
     "text": [
      "Element found at index 3\n"
     ]
    }
   ],
   "source": [
    "# Function to perform binary search\n",
    "def binary_search(arr, target):\n",
    "    low = 0\n",
    "    high = len(arr) - 1\n",
    "    \n",
    "    while low <= high:\n",
    "        mid = (low + high) // 2  # Find the middle index\n",
    "        \n",
    "        # Check if target is at mid\n",
    "        if arr[mid] == target:\n",
    "            return mid  # Return the index of the target\n",
    "        # If target is smaller, search the left half\n",
    "        elif arr[mid] > target:\n",
    "            high = mid - 1\n",
    "        # If target is larger, search the right half\n",
    "        else:\n",
    "            low = mid + 1\n",
    "    \n",
    "    return -1  # Return -1 if the target is not found\n",
    "\n",
    "# Example usage\n",
    "arr = [10, 20, 30, 40, 50, 60, 70]\n",
    "target = 40\n",
    "result = binary_search(arr, target)\n",
    "\n",
    "# Output the result\n",
    "if result != -1:\n",
    "    print(f\"Element found at index {result}\")\n",
    "else:\n",
    "    print(\"Element not found\")\n"
   ]
  },
  {
   "cell_type": "code",
   "execution_count": null,
   "id": "045c5646-fe4f-4d14-bb96-64e9f687475b",
   "metadata": {},
   "outputs": [],
   "source": [
    "#Binary Search works by repeatedly dividing the search interval in half.\n",
    "#The algorithm starts by comparing the target value to the middle element of the array.\n",
    "#If the target is less than the middle element, the search continues in the left half; otherwise, it continues in the right half.\n",
    "#The process continues until the target is found or the subarray size becomes 0.\n",
    "\n",
    "\n",
    "#Steps:\n",
    "#Start with the full array.\n",
    "#Find the middle element.\n",
    "#Compare the target with the middle element.\n",
    "#If the target matches, return the index.\n",
    "#If the target is smaller, search the left half.\n",
    "#If the target is larger, search the right half.\n",
    "#Repeat until the target is found or the array is empty.\n"
   ]
  }
 ],
 "metadata": {
  "kernelspec": {
   "display_name": "Python 3 (ipykernel)",
   "language": "python",
   "name": "python3"
  },
  "language_info": {
   "codemirror_mode": {
    "name": "ipython",
    "version": 3
   },
   "file_extension": ".py",
   "mimetype": "text/x-python",
   "name": "python",
   "nbconvert_exporter": "python",
   "pygments_lexer": "ipython3",
   "version": "3.11.7"
  }
 },
 "nbformat": 4,
 "nbformat_minor": 5
}
