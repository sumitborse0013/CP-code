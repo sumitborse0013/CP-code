{
 "cells": [
  {
   "cell_type": "code",
   "execution_count": 2,
   "id": "94d40597-9073-4a1c-96a0-c45463046f92",
   "metadata": {},
   "outputs": [
    {
     "name": "stdout",
     "output_type": "stream",
     "text": [
      "Original array: [12, 11, 13, 5, 6]\n",
      "Sorted array: [5, 6, 11, 12, 13]\n"
     ]
    }
   ],
   "source": [
    "#Insertion sort\n",
    "\n",
    "def insertion_sort(arr):\n",
    "    # Traverse through 1 to len(arr)\n",
    "    for i in range(1, len(arr)):\n",
    "        key = arr[i]  # current element to be inserted\n",
    "        j = i - 1  # position to compare the element with\n",
    "        \n",
    "        # Move elements of arr[0..i-1] that are greater than key\n",
    "        # to one position ahead of their current position\n",
    "        while j >= 0 and arr[j] > key:\n",
    "            arr[j + 1] = arr[j]\n",
    "            j -= 1\n",
    "        \n",
    "        # Insert the key in its correct position\n",
    "        arr[j + 1] = key\n",
    "\n",
    "# Example usage\n",
    "arr = [12, 11, 13, 5, 6]\n",
    "print(\"Original array:\", arr)\n",
    "insertion_sort(arr)\n",
    "print(\"Sorted array:\", arr)\n"
   ]
  },
  {
   "cell_type": "code",
   "execution_count": 3,
   "id": "1d6c6ddc-17bc-4f3c-9077-39d90ccb6ded",
   "metadata": {},
   "outputs": [],
   "source": [
    "#Insertion Sort works by taking one element at a time and inserting it into its correct position in a sorted portion of the array.\n",
    "#Start with the second element (index 1) because the first element is already \"sorted\" by itself.\n",
    "#Compare the current element with the previous one.\n",
    "#If the current element is smaller, move the previous element to the right.\n",
    "#Keep shifting until you find the correct position for the current element.\n",
    "#Repeat until all elements are sorted."
   ]
  },
  {
   "cell_type": "code",
   "execution_count": null,
   "id": "f60e4daf-d4bc-4748-85b8-40ab4873a1b7",
   "metadata": {},
   "outputs": [],
   "source": []
  },
  {
   "cell_type": "code",
   "execution_count": null,
   "id": "8c7863b5-e1de-4cad-8bbd-e3e329028dde",
   "metadata": {},
   "outputs": [],
   "source": []
  }
 ],
 "metadata": {
  "kernelspec": {
   "display_name": "Python 3 (ipykernel)",
   "language": "python",
   "name": "python3"
  },
  "language_info": {
   "codemirror_mode": {
    "name": "ipython",
    "version": 3
   },
   "file_extension": ".py",
   "mimetype": "text/x-python",
   "name": "python",
   "nbconvert_exporter": "python",
   "pygments_lexer": "ipython3",
   "version": "3.11.7"
  }
 },
 "nbformat": 4,
 "nbformat_minor": 5
}
