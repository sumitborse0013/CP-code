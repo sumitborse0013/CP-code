{
 "cells": [
  {
   "cell_type": "code",
   "execution_count": 1,
   "id": "b99943ae-5236-418b-992b-383c84a75828",
   "metadata": {},
   "outputs": [],
   "source": [
    "#Binary Search tree"
   ]
  },
  {
   "cell_type": "code",
   "execution_count": null,
   "id": "7da2f62c-f290-4c10-bd2b-4016cc421e00",
   "metadata": {},
   "outputs": [],
   "source": []
  }
 ],
 "metadata": {
  "kernelspec": {
   "display_name": "Python 3 (ipykernel)",
   "language": "python",
   "name": "python3"
  },
  "language_info": {
   "codemirror_mode": {
    "name": "ipython",
    "version": 3
   },
   "file_extension": ".py",
   "mimetype": "text/x-python",
   "name": "python",
   "nbconvert_exporter": "python",
   "pygments_lexer": "ipython3",
   "version": "3.11.7"
  }
 },
 "nbformat": 4,
 "nbformat_minor": 5
}
