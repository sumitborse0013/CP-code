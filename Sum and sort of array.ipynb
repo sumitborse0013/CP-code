{
 "cells": [
  {
   "cell_type": "code",
   "execution_count": 2,
   "id": "fb56a12a-4ad1-4a62-aad5-a10ef4e7dcfd",
   "metadata": {},
   "outputs": [
    {
     "name": "stdin",
     "output_type": "stream",
     "text": [
      "Enter the numbers :  11 22 33 55 62\n"
     ]
    },
    {
     "name": "stdout",
     "output_type": "stream",
     "text": [
      "Addition of Array is :  183\n"
     ]
    }
   ],
   "source": [
    "#Program to find the Sum of Array\n",
    "\n",
    "arr=(input(\"Enter the numbers : \"))\n",
    "lst1=[int (x) for x in arr.split()]\n",
    "sum_of_arr=sum(lst1)\n",
    "print(\"Addition of Array is : \",sum_of_arr)\n",
    "\n"
   ]
  },
  {
   "cell_type": "code",
   "execution_count": null,
   "id": "bfdc0d48-8106-47c0-931b-20ca26a172e7",
   "metadata": {},
   "outputs": [],
   "source": [
    "#Theory:\n",
    "#Array: A collection of elements stored at contiguous memory locations.\n",
    "#Sum of Array: Adding all elements of the array to get a single result.\n",
    "#Example:\n",
    "Input:\n",
    "Array: [1, 2, 3, 4, 5]\n",
    "Output:\n",
    "Sum: 15\n",
    "\n",
    "#Explanation:\n",
    "a=[1+2+3+4+5]\n",
    "1+2+3+4+5=15"
   ]
  },
  {
   "cell_type": "code",
   "execution_count": null,
   "id": "78aaa143-459e-40e4-893b-c5be77869d68",
   "metadata": {},
   "outputs": [],
   "source": [
    "Q) #Program to sort the elements of the array.\n",
    "\n",
    "arr=[20,50,40,30]\n",
    "arr.sort()\n",
    "print(arr)\n",
    "\n",
    "Output :\n",
    "[20, 30, 40, 50]\n"
   ]
  }
 ],
 "metadata": {
  "kernelspec": {
   "display_name": "Python 3 (ipykernel)",
   "language": "python",
   "name": "python3"
  },
  "language_info": {
   "codemirror_mode": {
    "name": "ipython",
    "version": 3
   },
   "file_extension": ".py",
   "mimetype": "text/x-python",
   "name": "python",
   "nbconvert_exporter": "python",
   "pygments_lexer": "ipython3",
   "version": "3.11.7"
  }
 },
 "nbformat": 4,
 "nbformat_minor": 5
}
